{
 "cells": [
  {
   "cell_type": "code",
   "execution_count": 1,
   "metadata": {},
   "outputs": [],
   "source": [
    "import pandas as pd\n",
    "import numpy as np\n",
    "import csv"
   ]
  },
  {
   "cell_type": "code",
   "execution_count": 2,
   "metadata": {},
   "outputs": [],
   "source": [
    "from sklearn.model_selection import train_test_split"
   ]
  },
  {
   "cell_type": "code",
   "execution_count": 3,
   "metadata": {},
   "outputs": [
    {
     "name": "stdout",
     "output_type": "stream",
     "text": [
      "(106582, 106582)\n"
     ]
    }
   ],
   "source": [
    "with open('manip_brusque.txt.csv') as csvfile:\n",
    "    data = csv.reader(csvfile, delimiter=',', quotechar='|')\n",
    "    data_array = []\n",
    "    gabarito = []\n",
    "    for row in data:\n",
    "        if row[6]:\n",
    "            data_array.append(np.asarray(map(int, row[0:9])))\n",
    "            gabarito.append(int(row[11]))\n",
    "    print(len(data_array), len(gabarito))\n",
    "    images = []\n",
    "    checker = []\n",
    "    for i,item in enumerate(data_array,):\n",
    "        is_hole=0\n",
    "        if sum(gabarito[i:i+60])>8: \n",
    "            is_hole = 1\n",
    "        flat_list = [sensor for sublist in data_array[i:i+60] for sensor in sublist]\n",
    "        images.append(np.array(flat_list))\n",
    "        checker.append(is_hole)\n",
    "        \n"
   ]
  },
  {
   "cell_type": "code",
   "execution_count": 4,
   "metadata": {},
   "outputs": [],
   "source": [
    "data_set = pd.DataFrame(images)\n",
    "data_set['is_hole'] = pd.DataFrame(checker)"
   ]
  },
  {
   "cell_type": "code",
   "execution_count": 5,
   "metadata": {},
   "outputs": [
    {
     "name": "stdout",
     "output_type": "stream",
     "text": [
      "(160224, 160224)\n"
     ]
    }
   ],
   "source": [
    "with open('manip_brusque_tijucas_dataset.txt.csv') as csvfile:\n",
    "    data = csv.reader(csvfile, delimiter=',', quotechar='|')\n",
    "    data_array = []\n",
    "    gabarito = []\n",
    "    for row in data:\n",
    "        if row[6]:\n",
    "            data_array.append(np.asarray(map(int, row[0:9])))\n",
    "            gabarito.append(int(row[11]))\n",
    "    print(len(data_array), len(gabarito))\n",
    "    images = []\n",
    "    checker = []\n",
    "    for i,item in enumerate(data_array,):\n",
    "        is_hole=0\n",
    "        if sum(gabarito[i:i+60])>8: \n",
    "            is_hole = 1\n",
    "        flat_list = [sensor for sublist in data_array[i:i+60] for sensor in sublist]\n",
    "        images.append(np.array(flat_list))\n",
    "        checker.append(is_hole)\n",
    "        \n"
   ]
  },
  {
   "cell_type": "code",
   "execution_count": 6,
   "metadata": {},
   "outputs": [],
   "source": [
    "data_second = pd.DataFrame(images)\n",
    "data_second['is_hole'] = pd.DataFrame(checker)"
   ]
  },
  {
   "cell_type": "code",
   "execution_count": 7,
   "metadata": {},
   "outputs": [],
   "source": [
    "data = pd.concat([data_set, data_second])\n",
    "data = data[np.isfinite(data[7])]"
   ]
  },
  {
   "cell_type": "code",
   "execution_count": 8,
   "metadata": {},
   "outputs": [
    {
     "name": "stdout",
     "output_type": "stream",
     "text": [
      "(25544, 541)\n",
      "(241262, 541)\n"
     ]
    }
   ],
   "source": [
    "X_hole = data[data[\"is_hole\"]==1]\n",
    "X_clean = data[data[\"is_hole\"]==0]\n",
    "# X_test_hole = data_test[data_test['is_hole']==1]\n",
    "# X_test_clean = data_test[data_test['is_hole']==0]\n",
    "print(X_hole.shape)\n",
    "print(X_clean.shape)\n"
   ]
  },
  {
   "cell_type": "code",
   "execution_count": 9,
   "metadata": {},
   "outputs": [
    {
     "name": "stdout",
     "output_type": "stream",
     "text": [
      "(51106, 541)\n"
     ]
    }
   ],
   "source": [
    "data = [X_hole, X_clean[1400:2400],X_clean[16024:17024],X_clean[43000:45000],X_clean[30000:31000], \n",
    "         X_clean[64325:66325],X_clean[90852:92852],X_clean[140000:143000],X_clean[194568:197586],\n",
    "         X_clean[160000:162000],X_clean[238000:240544], X_clean[152000:155000], X_clean[98000:101000]]\n",
    "data = pd.concat(data)\n",
    "\n",
    "print data.shape"
   ]
  },
  {
   "cell_type": "code",
   "execution_count": 10,
   "metadata": {},
   "outputs": [],
   "source": [
    "X = data.drop('is_hole',axis=1)\n",
    "y = data[\"is_hole\"]\n",
    "X_train, X_test, y_train, y_test = train_test_split(X, y)"
   ]
  },
  {
   "cell_type": "code",
   "execution_count": 11,
   "metadata": {},
   "outputs": [
    {
     "data": {
      "text/plain": [
       "StandardScaler(copy=True, with_mean=True, with_std=True)"
      ]
     },
     "execution_count": 11,
     "metadata": {},
     "output_type": "execute_result"
    }
   ],
   "source": [
    "from sklearn.preprocessing import StandardScaler\n",
    "\n",
    "scaler = StandardScaler()\n",
    "scaler.fit(X_train)\n",
    "StandardScaler(copy=True, with_mean=True, with_std=True)"
   ]
  },
  {
   "cell_type": "code",
   "execution_count": 12,
   "metadata": {},
   "outputs": [],
   "source": [
    "X_train = scaler.transform(X_train)\n",
    "X_test = scaler.transform(X_test)"
   ]
  },
  {
   "cell_type": "code",
   "execution_count": 13,
   "metadata": {},
   "outputs": [],
   "source": [
    "from sklearn.neural_network import MLPClassifier\n"
   ]
  },
  {
   "cell_type": "code",
   "execution_count": 14,
   "metadata": {},
   "outputs": [],
   "source": [
    "mlp = MLPClassifier(hidden_layer_sizes=(3000,1500,1500,500, 200),max_iter=1000)"
   ]
  },
  {
   "cell_type": "code",
   "execution_count": 15,
   "metadata": {},
   "outputs": [
    {
     "data": {
      "text/plain": [
       "MLPClassifier(activation='relu', alpha=0.0001, batch_size='auto', beta_1=0.9,\n",
       "       beta_2=0.999, early_stopping=False, epsilon=1e-08,\n",
       "       hidden_layer_sizes=(3000, 1500, 1500, 500, 200),\n",
       "       learning_rate='constant', learning_rate_init=0.001, max_iter=1000,\n",
       "       momentum=0.9, nesterovs_momentum=True, power_t=0.5,\n",
       "       random_state=None, shuffle=True, solver='adam', tol=0.0001,\n",
       "       validation_fraction=0.1, verbose=False, warm_start=False)"
      ]
     },
     "execution_count": 15,
     "metadata": {},
     "output_type": "execute_result"
    }
   ],
   "source": [
    "mlp.fit(X_train,y_train)"
   ]
  },
  {
   "cell_type": "code",
   "execution_count": 16,
   "metadata": {},
   "outputs": [],
   "source": [
    "predictions = mlp.predict(X_test)"
   ]
  },
  {
   "cell_type": "code",
   "execution_count": 17,
   "metadata": {},
   "outputs": [],
   "source": [
    "from sklearn.metrics import classification_report,confusion_matrix"
   ]
  },
  {
   "cell_type": "code",
   "execution_count": 18,
   "metadata": {},
   "outputs": [
    {
     "name": "stdout",
     "output_type": "stream",
     "text": [
      "[[5906  517]\n",
      " [ 480 5874]]\n"
     ]
    }
   ],
   "source": [
    "print(confusion_matrix(y_test,predictions))"
   ]
  },
  {
   "cell_type": "code",
   "execution_count": 19,
   "metadata": {},
   "outputs": [
    {
     "name": "stdout",
     "output_type": "stream",
     "text": [
      "             precision    recall  f1-score   support\n",
      "\n",
      "          0       0.92      0.92      0.92      6423\n",
      "          1       0.92      0.92      0.92      6354\n",
      "\n",
      "avg / total       0.92      0.92      0.92     12777\n",
      "\n"
     ]
    }
   ],
   "source": [
    "print(classification_report(y_test,predictions))"
   ]
  },
  {
   "cell_type": "code",
   "execution_count": null,
   "metadata": {},
   "outputs": [],
   "source": []
  }
 ],
 "metadata": {
  "kernelspec": {
   "display_name": "Python 2",
   "language": "python",
   "name": "python2"
  },
  "language_info": {
   "codemirror_mode": {
    "name": "ipython",
    "version": 2
   },
   "file_extension": ".py",
   "mimetype": "text/x-python",
   "name": "python",
   "nbconvert_exporter": "python",
   "pygments_lexer": "ipython2",
   "version": "2.7.12+"
  }
 },
 "nbformat": 4,
 "nbformat_minor": 2
}
