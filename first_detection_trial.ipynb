{
 "cells": [
  {
   "cell_type": "code",
   "execution_count": 1,
   "metadata": {},
   "outputs": [],
   "source": [
    "import pandas as pd\n",
    "import numpy as np"
   ]
  },
  {
   "cell_type": "code",
   "execution_count": 2,
   "metadata": {},
   "outputs": [],
   "source": [
    "data = pd.read_csv('manip_brusque.txt.csv', names=[\"D1\", \"D2\", \"D3\", \"D4\", \"Ax\",\"Ay\",\"Az\",\"Gx\",\"Gy\",\"Gz\",\"Temp\", \"is_hole\"])\n",
    "data = data[np.isfinite(data['Ax'])]"
   ]
  },
  {
   "cell_type": "code",
   "execution_count": 3,
   "metadata": {},
   "outputs": [
    {
     "data": {
      "text/html": [
       "<div>\n",
       "<style scoped>\n",
       "    .dataframe tbody tr th:only-of-type {\n",
       "        vertical-align: middle;\n",
       "    }\n",
       "\n",
       "    .dataframe tbody tr th {\n",
       "        vertical-align: top;\n",
       "    }\n",
       "\n",
       "    .dataframe thead th {\n",
       "        text-align: right;\n",
       "    }\n",
       "</style>\n",
       "<table border=\"1\" class=\"dataframe\">\n",
       "  <thead>\n",
       "    <tr style=\"text-align: right;\">\n",
       "      <th></th>\n",
       "      <th>D1</th>\n",
       "      <th>D2</th>\n",
       "      <th>D3</th>\n",
       "      <th>D4</th>\n",
       "      <th>Ax</th>\n",
       "      <th>Ay</th>\n",
       "      <th>Az</th>\n",
       "      <th>Gx</th>\n",
       "      <th>Gy</th>\n",
       "      <th>Gz</th>\n",
       "      <th>Temp</th>\n",
       "      <th>is_hole</th>\n",
       "    </tr>\n",
       "  </thead>\n",
       "  <tbody>\n",
       "    <tr>\n",
       "      <th>0</th>\n",
       "      <td>313</td>\n",
       "      <td>270.0</td>\n",
       "      <td>271.0</td>\n",
       "      <td>275.0</td>\n",
       "      <td>9179.0</td>\n",
       "      <td>5762.0</td>\n",
       "      <td>-24629.0</td>\n",
       "      <td>-127.0</td>\n",
       "      <td>77.0</td>\n",
       "      <td>54.0</td>\n",
       "      <td>-1040.0</td>\n",
       "      <td>0.0</td>\n",
       "    </tr>\n",
       "    <tr>\n",
       "      <th>1</th>\n",
       "      <td>292</td>\n",
       "      <td>265.0</td>\n",
       "      <td>256.0</td>\n",
       "      <td>268.0</td>\n",
       "      <td>8847.0</td>\n",
       "      <td>5662.0</td>\n",
       "      <td>-24565.0</td>\n",
       "      <td>-70.0</td>\n",
       "      <td>101.0</td>\n",
       "      <td>80.0</td>\n",
       "      <td>-1040.0</td>\n",
       "      <td>0.0</td>\n",
       "    </tr>\n",
       "    <tr>\n",
       "      <th>2</th>\n",
       "      <td>288</td>\n",
       "      <td>295.0</td>\n",
       "      <td>259.0</td>\n",
       "      <td>296.0</td>\n",
       "      <td>8767.0</td>\n",
       "      <td>5714.0</td>\n",
       "      <td>-24089.0</td>\n",
       "      <td>-22.0</td>\n",
       "      <td>25.0</td>\n",
       "      <td>98.0</td>\n",
       "      <td>-1040.0</td>\n",
       "      <td>0.0</td>\n",
       "    </tr>\n",
       "    <tr>\n",
       "      <th>3</th>\n",
       "      <td>272</td>\n",
       "      <td>277.0</td>\n",
       "      <td>295.0</td>\n",
       "      <td>278.0</td>\n",
       "      <td>9011.0</td>\n",
       "      <td>5766.0</td>\n",
       "      <td>-24885.0</td>\n",
       "      <td>-21.0</td>\n",
       "      <td>7.0</td>\n",
       "      <td>69.0</td>\n",
       "      <td>-1040.0</td>\n",
       "      <td>0.0</td>\n",
       "    </tr>\n",
       "    <tr>\n",
       "      <th>4</th>\n",
       "      <td>288</td>\n",
       "      <td>279.0</td>\n",
       "      <td>260.0</td>\n",
       "      <td>279.0</td>\n",
       "      <td>9275.0</td>\n",
       "      <td>5678.0</td>\n",
       "      <td>-25817.0</td>\n",
       "      <td>-91.0</td>\n",
       "      <td>87.0</td>\n",
       "      <td>58.0</td>\n",
       "      <td>-1040.0</td>\n",
       "      <td>0.0</td>\n",
       "    </tr>\n",
       "  </tbody>\n",
       "</table>\n",
       "</div>"
      ],
      "text/plain": [
       "    D1     D2     D3     D4      Ax      Ay       Az     Gx     Gy    Gz  \\\n",
       "0  313  270.0  271.0  275.0  9179.0  5762.0 -24629.0 -127.0   77.0  54.0   \n",
       "1  292  265.0  256.0  268.0  8847.0  5662.0 -24565.0  -70.0  101.0  80.0   \n",
       "2  288  295.0  259.0  296.0  8767.0  5714.0 -24089.0  -22.0   25.0  98.0   \n",
       "3  272  277.0  295.0  278.0  9011.0  5766.0 -24885.0  -21.0    7.0  69.0   \n",
       "4  288  279.0  260.0  279.0  9275.0  5678.0 -25817.0  -91.0   87.0  58.0   \n",
       "\n",
       "     Temp  is_hole  \n",
       "0 -1040.0      0.0  \n",
       "1 -1040.0      0.0  \n",
       "2 -1040.0      0.0  \n",
       "3 -1040.0      0.0  \n",
       "4 -1040.0      0.0  "
      ]
     },
     "execution_count": 3,
     "metadata": {},
     "output_type": "execute_result"
    }
   ],
   "source": [
    "data.head()"
   ]
  },
  {
   "cell_type": "code",
   "execution_count": 4,
   "metadata": {},
   "outputs": [],
   "source": [
    "from sklearn.model_selection import train_test_split"
   ]
  },
  {
   "cell_type": "code",
   "execution_count": 5,
   "metadata": {},
   "outputs": [],
   "source": [
    "data_test = pd.read_csv('manip_brusque_tijucas_dataset.txt.csv', names=[\"D1\", \"D2\", \"D3\", \"D4\", \"Ax\",\"Ay\",\"Az\",\"Gx\",\"Gy\",\"Gz\",\"Temp\", \"is_hole\"])\n",
    "data_test = data_test[np.isfinite(data_test['Ax'])]"
   ]
  },
  {
   "cell_type": "code",
   "execution_count": 6,
   "metadata": {},
   "outputs": [
    {
     "name": "stdout",
     "output_type": "stream",
     "text": [
      "(5044, 12)\n",
      "(101538, 12)\n",
      "(7103, 12)\n",
      "(153121, 12)\n"
     ]
    }
   ],
   "source": [
    "X_hole = data[data['is_hole']==1]\n",
    "X_clean = data[data['is_hole']==0]\n",
    "X_test_hole = data_test[data_test['is_hole']==1]\n",
    "X_test_clean = data_test[data_test['is_hole']==0]\n",
    "print(X_hole.shape)\n",
    "print(X_clean.shape)\n",
    "print(X_test_hole.shape)\n",
    "print(X_test_clean.shape)"
   ]
  },
  {
   "cell_type": "code",
   "execution_count": 7,
   "metadata": {},
   "outputs": [
    {
     "name": "stdout",
     "output_type": "stream",
     "text": [
      "(24294, 12)\n"
     ]
    }
   ],
   "source": [
    "frames = [X_hole, X_test_hole, X_clean[1400:2400],X_clean[6024:7024],X_clean[4300:5344],X_clean[8000:10000], X_test_clean[2640:4640],X_test_clean[7540:9540],X_test_clean[10000:12000],X_test_clean[14000:15103]]\n",
    "my_dataset = pd.concat(frames)\n",
    "print my_dataset.shape"
   ]
  },
  {
   "cell_type": "code",
   "execution_count": 8,
   "metadata": {},
   "outputs": [
    {
     "name": "stdout",
     "output_type": "stream",
     "text": [
      "(24294, 10)\n",
      "(24294,)\n",
      "(24294, 10)\n"
     ]
    }
   ],
   "source": [
    "X = my_dataset.drop('is_hole', axis=1)\n",
    "X = X.drop('Temp', axis=1)\n",
    "y = my_dataset['is_hole']\n",
    "print(X.shape)\n",
    "print(y.shape)\n",
    "print(X.shape)\n",
    "X_train, X_test, y_train, y_test = train_test_split(X, y)"
   ]
  },
  {
   "cell_type": "code",
   "execution_count": 10,
   "metadata": {},
   "outputs": [
    {
     "data": {
      "text/plain": [
       "StandardScaler(copy=True, with_mean=True, with_std=True)"
      ]
     },
     "execution_count": 10,
     "metadata": {},
     "output_type": "execute_result"
    }
   ],
   "source": [
    "from sklearn.preprocessing import StandardScaler\n",
    "\n",
    "scaler = StandardScaler()\n",
    "scaler.fit(X_train)\n",
    "StandardScaler(copy=True, with_mean=True, with_std=True)"
   ]
  },
  {
   "cell_type": "code",
   "execution_count": null,
   "metadata": {},
   "outputs": [],
   "source": []
  },
  {
   "cell_type": "code",
   "execution_count": 11,
   "metadata": {},
   "outputs": [],
   "source": [
    "X_train = scaler.transform(X_train)\n",
    "X_test = scaler.transform(X_test)"
   ]
  },
  {
   "cell_type": "code",
   "execution_count": 12,
   "metadata": {},
   "outputs": [],
   "source": [
    "from sklearn.neural_network import MLPClassifier\n"
   ]
  },
  {
   "cell_type": "code",
   "execution_count": 13,
   "metadata": {},
   "outputs": [],
   "source": [
    "mlp = MLPClassifier(hidden_layer_sizes=(13,13,13),max_iter=500)"
   ]
  },
  {
   "cell_type": "code",
   "execution_count": 14,
   "metadata": {},
   "outputs": [
    {
     "data": {
      "text/plain": [
       "MLPClassifier(activation='relu', alpha=0.0001, batch_size='auto', beta_1=0.9,\n",
       "       beta_2=0.999, early_stopping=False, epsilon=1e-08,\n",
       "       hidden_layer_sizes=(13, 13, 13), learning_rate='constant',\n",
       "       learning_rate_init=0.001, max_iter=500, momentum=0.9,\n",
       "       nesterovs_momentum=True, power_t=0.5, random_state=None,\n",
       "       shuffle=True, solver='adam', tol=0.0001, validation_fraction=0.1,\n",
       "       verbose=False, warm_start=False)"
      ]
     },
     "execution_count": 14,
     "metadata": {},
     "output_type": "execute_result"
    }
   ],
   "source": [
    "mlp.fit(X_train,y_train)"
   ]
  },
  {
   "cell_type": "code",
   "execution_count": 15,
   "metadata": {},
   "outputs": [],
   "source": [
    "predictions = mlp.predict(X_test)"
   ]
  },
  {
   "cell_type": "code",
   "execution_count": 16,
   "metadata": {},
   "outputs": [],
   "source": [
    "from sklearn.metrics import classification_report,confusion_matrix"
   ]
  },
  {
   "cell_type": "code",
   "execution_count": 17,
   "metadata": {},
   "outputs": [
    {
     "name": "stdout",
     "output_type": "stream",
     "text": [
      "[[2112  987]\n",
      " [1076 1899]]\n"
     ]
    }
   ],
   "source": [
    "print(confusion_matrix(y_test,predictions))"
   ]
  },
  {
   "cell_type": "code",
   "execution_count": 18,
   "metadata": {},
   "outputs": [
    {
     "name": "stdout",
     "output_type": "stream",
     "text": [
      "             precision    recall  f1-score   support\n",
      "\n",
      "        0.0       0.66      0.68      0.67      3099\n",
      "        1.0       0.66      0.64      0.65      2975\n",
      "\n",
      "avg / total       0.66      0.66      0.66      6074\n",
      "\n"
     ]
    }
   ],
   "source": [
    "print(classification_report(y_test,predictions))"
   ]
  }
 ],
 "metadata": {
  "kernelspec": {
   "display_name": "Python 2",
   "language": "python",
   "name": "python2"
  },
  "language_info": {
   "codemirror_mode": {
    "name": "ipython",
    "version": 2
   },
   "file_extension": ".py",
   "mimetype": "text/x-python",
   "name": "python",
   "nbconvert_exporter": "python",
   "pygments_lexer": "ipython2",
   "version": "2.7.12+"
  }
 },
 "nbformat": 4,
 "nbformat_minor": 2
}
